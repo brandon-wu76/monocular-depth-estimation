{
  "nbformat": 4,
  "nbformat_minor": 0,
  "metadata": {
    "colab": {
      "name": "Untitled3.ipynb",
      "provenance": [],
      "authorship_tag": "ABX9TyMk8zgZGyh3+uy9WNFZNE+l"
    },
    "kernelspec": {
      "name": "python3",
      "display_name": "Python 3"
    }
  },
  "cells": [
    {
      "cell_type": "code",
      "metadata": {
        "id": "1G4SxLVQNY00",
        "colab_type": "code",
        "colab": {}
      },
      "source": [
        "import cv2\n",
        "\n",
        "if not os.path.exists(\"/content/movie_real.mp4\"):\n",
        "  raise Exception(\"Video file not found\")\n",
        "\n",
        "if not os.path.exists(\"/content/vidframes/\"):\n",
        "  os.makedirs(\"/content/vidframes/\")\n",
        "if not os.path.exists(\"/content/gendepth/\"):\n",
        "  os.makedirs(\"/content/gendepth/\")\n",
        "\n",
        "vidcap = cv2.VideoCapture(\"/content/movie_real.mp4\")\n",
        "success,image = vidcap.read()\n",
        "count = 0\n",
        "while success:\n",
        "  cv2.imwrite(\"/content/vidframes/frame%d.jpg\" % count, image)     # save frame as JPEG file      \n",
        "  success,image = vidcap.read()\n",
        "  count += 1\n",
        "print(\"Total frame count: {}\".format(count))"
      ],
      "execution_count": null,
      "outputs": []
    },
    {
      "cell_type": "code",
      "metadata": {
        "id": "W3mRWv4pNa4D",
        "colab_type": "code",
        "colab": {}
      },
      "source": [
        "test_model = SkipEncoder6().cuda()\n",
        "\n",
        "torch.manual_seed(1)\n",
        "\n",
        "checkpoint_filepath = \"/content/drive/My Drive/Checkpoints/demo_model.pth\"\n",
        "\n",
        "if not os.path.exists(checkpoint_filepath):\n",
        "  raise Exception(\"Checkpoint file not found. Verify file path?\")\n",
        "      \n",
        "checkpoint = torch.load(checkpoint_filepath)\n",
        "test_model.load_state_dict(checkpoint['model_state_dict'])\n",
        "print(\"Loaded model from epoch\",checkpoint['epoch'],\"\\nLoss:\", checkpoint['loss'])\n",
        "test_model.eval()\n",
        "\n",
        "for i in range(count):\n",
        "  rgb = Image.open(\"/content/vidframes/frame{}.jpg\".format(i))\n",
        "  rgb = resize(np.array(rgb), (224, 224))\n",
        "  rgb = transforms.ToTensor()(rgb)\n",
        "  pred = test_model(rgb.cuda().unsqueeze(0).float()).cpu().detach().numpy()[0].squeeze()\n",
        "  pred = resize(np.array(pred),(592,480))\n",
        "  plt.imsave(\"/content/gendepth/frame{}.jpg\".format(i), pred, cmap=\"inferno\")"
      ],
      "execution_count": null,
      "outputs": []
    }
  ]
}